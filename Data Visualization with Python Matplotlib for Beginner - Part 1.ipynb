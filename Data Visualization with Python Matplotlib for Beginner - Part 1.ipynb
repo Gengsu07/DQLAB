{
 "metadata": {
  "language_info": {
   "codemirror_mode": {
    "name": "ipython",
    "version": 3
   },
   "file_extension": ".py",
   "mimetype": "text/x-python",
   "name": "python",
   "nbconvert_exporter": "python",
   "pygments_lexer": "ipython3",
   "version": "3.8.5"
  },
  "orig_nbformat": 2,
  "kernelspec": {
   "name": "python385jvsc74a57bd0b59dd43096e7071a7d7e15f794d5628462ba5c17fac5596e0a8dc0859ab5708e",
   "display_name": "Python 3.8.5 64-bit ('anaconda3': virtualenv)"
  }
 },
 "nbformat": 4,
 "nbformat_minor": 2,
 "cells": [
  {
   "source": [
    "# Data Visualization with Python Matplotlib for Beginner - Part 1"
   ],
   "cell_type": "markdown",
   "metadata": {}
  },
  {
   "cell_type": "code",
   "execution_count": 31,
   "metadata": {},
   "outputs": [],
   "source": [
    "import pandas as pd \n",
    "import matplotlib.pyplot as plt"
   ]
  },
  {
   "cell_type": "code",
   "execution_count": 32,
   "metadata": {},
   "outputs": [],
   "source": [
    "dataset = pd.read_csv('/Users/sugengw07/Documents/PYTHON/DATASET/retail_raw_reduced.csv')"
   ]
  },
  {
   "cell_type": "code",
   "execution_count": 33,
   "metadata": {},
   "outputs": [
    {
     "output_type": "stream",
     "name": "stdout",
     "text": [
      "Ukuran dataset: 5000 baris dan 9 kolom\n\nLima data teratas:\n\n   order_id  order_date  customer_id             city     province product_id  \\\n0   1703458  2019-10-17        14004  Jakarta Selatan  DKI Jakarta      P1910   \n1   1706815  2019-10-24        17220  Jakarta Selatan  DKI Jakarta      P2934   \n2   1710718  2019-11-03        16518    Jakarta Utara  DKI Jakarta      P0908   \n3   1683592  2019-08-19        16364    Jakarta Barat  DKI Jakarta      P0128   \n4   1702573  2019-10-16        15696    Jakarta Timur  DKI Jakarta      P2968   \n\n     brand  quantity  item_price  \n0  BRAND_J        10      740000  \n1  BRAND_R         2      604000  \n2  BRAND_C         8     1045000  \n3  BRAND_A         4      205000  \n4  BRAND_R         2     4475000  \n"
     ]
    }
   ],
   "source": [
    "print('Ukuran dataset: %d baris dan %d kolom\\n' %dataset.shape)\n",
    "print('Lima data teratas:\\n')\n",
    "print(dataset.head())\n"
   ]
  },
  {
   "source": [
    "Aku dan teman-teman di ruangan rapat sibuk menyimak penjelasan ini:\n",
    "\n",
    "order_id : ID dari order/transaksi, 1 transaksi bisa terdiri dari beberapa produk, tetapi hanya dilakukan oleh 1 customer\n",
    "\n",
    "order_date : tanggal terjadinya transaksi\n",
    "\n",
    "customer_id : ID dari pembeli, bisa jadi dalam satu hari, 1 customer melakukan transaksi beberapa kali\n",
    "\n",
    "city : kota tempat toko terjadinya transaksi\n",
    "\n",
    "province : provinsi (berdasarkan city)\n",
    "\n",
    "product_id : ID dari suatu product yang dibeli\n",
    "\n",
    "brand : brand/merk dari product. Suatu product yang sama pasti memiliki brand yang sama\n",
    "\n",
    "quantity : Kuantitas / banyaknya product yang dibeli\n",
    "\n",
    "item_price : Harga dari 1 product (dalam Rupiah). Suatu product yang sama, bisa jadi memiliki harga yang berbeda saat dibeli"
   ],
   "cell_type": "markdown",
   "metadata": {}
  },
  {
   "cell_type": "code",
   "execution_count": 34,
   "metadata": {},
   "outputs": [
    {
     "output_type": "execute_result",
     "data": {
      "text/plain": [
       "order_id        int64\n",
       "order_date     object\n",
       "customer_id     int64\n",
       "city           object\n",
       "province       object\n",
       "product_id     object\n",
       "brand          object\n",
       "quantity        int64\n",
       "item_price      int64\n",
       "dtype: object"
      ]
     },
     "metadata": {},
     "execution_count": 34
    }
   ],
   "source": [
    "dataset.dtypes"
   ]
  },
  {
   "cell_type": "code",
   "execution_count": 36,
   "metadata": {},
   "outputs": [
    {
     "output_type": "stream",
     "name": "stdout",
     "text": [
      "   order_id  order_date  customer_id             city     province product_id  \\\n0   1703458  2019-10-17        14004  Jakarta Selatan  DKI Jakarta      P1910   \n1   1706815  2019-10-24        17220  Jakarta Selatan  DKI Jakarta      P2934   \n2   1710718  2019-11-03        16518    Jakarta Utara  DKI Jakarta      P0908   \n3   1683592  2019-08-19        16364    Jakarta Barat  DKI Jakarta      P0128   \n4   1702573  2019-10-16        15696    Jakarta Timur  DKI Jakarta      P2968   \n\n     brand  quantity  item_price order_month  \n0  BRAND_J        10      740000     2019-10  \n1  BRAND_R         2      604000     2019-10  \n2  BRAND_C         8     1045000     2019-11  \n3  BRAND_A         4      205000     2019-08  \n4  BRAND_R         2     4475000     2019-10  \n"
     ]
    },
    {
     "output_type": "execute_result",
     "data": {
      "text/plain": [
       "order_id        int64\n",
       "order_date     object\n",
       "customer_id     int64\n",
       "city           object\n",
       "province       object\n",
       "product_id     object\n",
       "brand          object\n",
       "quantity        int64\n",
       "item_price      int64\n",
       "order_month    object\n",
       "dtype: object"
      ]
     },
     "metadata": {},
     "execution_count": 36
    }
   ],
   "source": [
    "import datetime\n",
    "dataset['order_month'] = dataset['order_date'].apply(lambda x: datetime.datetime.strptime(x, \"%Y-%m-%d\").strftime('%Y-%m'))\n",
    "print(dataset.head())\n",
    "dataset.dtypes"
   ]
  },
  {
   "cell_type": "code",
   "execution_count": 38,
   "metadata": {},
   "outputs": [
    {
     "output_type": "stream",
     "name": "stdout",
     "text": [
      "Ukuran dataset: 5000 baris dan 11 kolom\n\n   order_id  order_date  customer_id             city     province product_id  \\\n0   1703458  2019-10-17        14004  Jakarta Selatan  DKI Jakarta      P1910   \n1   1706815  2019-10-24        17220  Jakarta Selatan  DKI Jakarta      P2934   \n2   1710718  2019-11-03        16518    Jakarta Utara  DKI Jakarta      P0908   \n3   1683592  2019-08-19        16364    Jakarta Barat  DKI Jakarta      P0128   \n4   1702573  2019-10-16        15696    Jakarta Timur  DKI Jakarta      P2968   \n\n     brand  quantity  item_price order_month      gmv  \n0  BRAND_J        10      740000     2019-10  7400000  \n1  BRAND_R         2      604000     2019-10  1208000  \n2  BRAND_C         8     1045000     2019-11  8360000  \n3  BRAND_A         4      205000     2019-08   820000  \n4  BRAND_R         2     4475000     2019-10  8950000  \n"
     ]
    }
   ],
   "source": [
    "dataset['gmv'] = dataset['item_price']*dataset['quantity']\n",
    "print('Ukuran dataset: %d baris dan %d kolom\\n' %dataset.shape)\n",
    "print(dataset.head())"
   ]
  },
  {
   "cell_type": "code",
   "execution_count": null,
   "metadata": {},
   "outputs": [],
   "source": []
  }
 ]
}
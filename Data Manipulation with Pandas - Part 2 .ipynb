{
 "cells": [
  {
   "cell_type": "markdown",
   "metadata": {},
   "source": [
    "# Append"
   ]
  },
  {
   "cell_type": "code",
   "execution_count": null,
   "metadata": {},
   "outputs": [],
   "source": [
    "import pandas as pd\n",
    "# Buat series of int (s1) dan series of string (s2)\n",
    "s1 = pd.Series([1,2,3,4,5,6])\n",
    "s2 = pd.Series(['a','b','c','d','e','f'])\n",
    "\n",
    "# Terapkan method append\n",
    "s2_append_s1 = s2.append(s1)\n",
    "print(\"Series - append:\\n\", s2_append_s1)\n",
    "\n",
    "# Buat dataframe df1 dan df2\n",
    "df1 = pd.DataFrame({'a':[1,2],\n",
    "                    'b':[3,4]})\n",
    "df2 = pd.DataFrame({'b':[1,2],\n",
    "                    'a':[3,4]})\n",
    "                    \n",
    "# Terapkan method append\n",
    "df2_append_df1 = df2.append(df1)\n",
    "print(\"Dataframe - append:\\n\", df2_append_df1)"
   ]
  },
  {
   "cell_type": "markdown",
   "metadata": {},
   "source": [
    "# Concat"
   ]
  },
  {
   "cell_type": "code",
   "execution_count": null,
   "metadata": {},
   "outputs": [],
   "source": [
    "# Buat dataframe df1 dan df2\n",
    "df1 = pd.DataFrame({'a':[1,2],\n",
    "\t\t\t\t\t'b':[3,4]})\n",
    "df2 = pd.DataFrame({'b':[1,2],\n",
    "\t\t\t\t\t'a':[3,4]})\n",
    "\n",
    "# Terapkan method concat row-wise\n",
    "row_wise_concat = pd.concat([df1,df2])\n",
    "print(\"Row-wise - concat:\\n\", row_wise_concat)\n",
    "\n",
    "# Terapkan method concat column-wise\n",
    "col_wise_concat = pd.concat([df1,df2], axis = 1)\n",
    "print(\"Column-wise - concat:\\n\", col_wise_concat)\n",
    "\n",
    "# Penambahan identifier --> membentuk hasil penggabungan multiindex\n",
    "multiindex_concat = pd.concat([df1,df2], axis =0, keys=['df1','df2'])\n",
    "print(\"Multiindex - concat:\\n\", multiindex_concat)"
   ]
  },
  {
   "cell_type": "code",
   "execution_count": null,
   "metadata": {},
   "outputs": [],
   "source": [
    "# Buat dataframe df1 dan df2\n",
    "df1 = pd.DataFrame({\n",
    "   'key':['k1','k2','k3','k4','k5'],\n",
    "   'val1':[200, 500, 0, 500, 100],\n",
    "   'val2':[30, 50, 100, 20, 10]\n",
    "})\n",
    "df2 = pd.DataFrame({\n",
    "   'key':['k1','k3','k5','k7','k10'],\n",
    "   'val3':[1,2,3,4,5],\n",
    "   'val4':[6,7,8,8,10]\n",
    "})\n",
    "\n",
    "# Merge yang ekivalen dengan SQL left join\n",
    "merge_df_left = pd.merge(left = df2,right = df1, how =\"left\", left_on = 'key', right_on = 'key')\n",
    "print('Merge - Left:\\n',merge_df_left )\n",
    "\n",
    "# Merge yang ekivalen dengan SQL right join\n",
    "merge_df_right = pd.merge(left = df2,right = df1, how =\"right\", left_on = 'key', right_on = 'key')\n",
    "print('Merge - Right:\\n', merge_df_right)\n",
    "\n",
    "# Merge yang ekivalen dengan SQL inner join\n",
    "merge_df_inner = pd.merge(left = df2,right = df1, how =\"inner\", left_on = 'key', right_on = 'key')\n",
    "print('Merge - Inner:\\n', merge_df_inner)\n",
    "\n",
    "# Merge yang ekivalen dengan SQL outer join\n",
    "merge_df_outer = pd.merge(left = df2,right = df1, how =\"outer\", left_on = 'key', right_on = 'key')\n",
    "print('Merge - Outer:\\n', merge_df_outer)"
   ]
  },
  {
   "cell_type": "markdown",
   "metadata": {},
   "source": [
    "# MERGE PART1"
   ]
  },
  {
   "cell_type": "code",
   "execution_count": null,
   "metadata": {},
   "outputs": [],
   "source": [
    "import pandas as pd\n",
    "\n",
    "# Buat dataframe df1 dan df2\n",
    "df1 = pd.DataFrame({\n",
    "'key':['k1','k2','k3','k4','k5'],\n",
    "'val1':[200, 500, 0, 500, 100],\n",
    "'val2':[30, 50, 100, 20, 10]\n",
    "})\n",
    "df2 = pd.DataFrame({\n",
    "'key':['k1','k3','k5','k7','k10'],\n",
    "'val3':[1,2,3,4,5],\n",
    "'val4':[6,7,8,8,10]\n",
    "})\n",
    "\n",
    "# Merge yang ekivalen dengan SQL left join\n",
    "merge_df_left = pd.merge(left=df2, right=df1, how='left', left_on='key', right_on='key')\n",
    "print('Merge - Left:\\n', merge_df_left)\n",
    "\n",
    "# Merge yang ekivalen dengan SQL right join\n",
    "merge_df_right = pd.merge(left=df2, right=df1, how='right', left_on='key', right_on='key')\n",
    "print('Merge - Right:\\n', merge_df_right)\n",
    "\n",
    "# Merge yang ekivalen dengan SQL inner join\n",
    "merge_df_inner = pd.merge(left=df2, right=df1, how='inner', left_on='key', right_on='key')\n",
    "print('Merge - Inner:\\n', merge_df_inner)\n",
    "\n",
    "# Merge yang ekivalen dengan SQL outer join\n",
    "merge_df_outer = pd.merge(left=df2, right=df1, how='outer', left_on='key', right_on='key')\n",
    "print('Merge - Outer:\\n', merge_df_outer)"
   ]
  },
  {
   "cell_type": "markdown",
   "metadata": {},
   "source": [
    "# MERGE PART2"
   ]
  },
  {
   "cell_type": "markdown",
   "metadata": {},
   "source": [
    "Terjadi kegagalan dalam merging kedua dataframe yang memiliki multi index.\n",
    " \n",
    "Cara mengatasinya adalah dengan mereset index pada kedua dataframe, kemudian merge akan mendeteksi common single/multi column di kedua dataframe dan melakukan merge,"
   ]
  },
  {
   "cell_type": "code",
   "execution_count": null,
   "metadata": {},
   "outputs": [],
   "source": [
    "import pandas as pd\n",
    "\n",
    "# Buat dataframe df1 dan df2\n",
    "df1 = pd.DataFrame({\n",
    "   'key':['k1','k2','k3','k4','k5'],\n",
    "   'val1':[200, 500, 0, 500, 100],\n",
    "   'val2':[30, 50, 100, 20, 10]\n",
    "}).set_index(['key','val2'])\n",
    "print('Dataframe 1:\\n', df1)\n",
    "df2 = pd.DataFrame({\n",
    "   'key':['k1','k3','k5','k7','k10'],\n",
    "   'val3':[1,2,3,4,5],\n",
    "   'val4':[6,7,8,8,10]\n",
    "}).set_index(['key','val3'])\n",
    "print('Dataframe 2:\\n', df2)\n",
    "\n",
    "# Merge dataframe yang memiliki multi index\n",
    "df_merge = pd.merge(df1.reset_index(), df2.reset_index())\n",
    "print('Merging dataframe:\\n', df_merge)"
   ]
  },
  {
   "cell_type": "markdown",
   "metadata": {},
   "source": [
    "# JOIN"
   ]
  },
  {
   "cell_type": "markdown",
   "metadata": {},
   "source": [
    "Metthod .join() digunakan pada dataframe untuk menggabungkan kedua data dengan set index pada kedua tabel tersebut sebagai join key, tanpa index, hal ini tidak akan berhasil."
   ]
  },
  {
   "cell_type": "code",
   "execution_count": null,
   "metadata": {},
   "outputs": [],
   "source": [
    "import pandas as pd\n",
    "\n",
    "# Buat dataframe df1 dan df2\n",
    "df1 = pd.DataFrame({\n",
    "   'key':['k1','k2','k3','k4','k5'],\n",
    "   'val1':[200, 500, 0, 500, 100],\n",
    "   'val2':[30, 50, 100, 20, 10]\n",
    "})\n",
    "df2 = pd.DataFrame({\n",
    "   'key':['k1','k3','k5','k7','k10'],\n",
    "   'val3':[1,2,3,4,5],\n",
    "   'val4':[6,7,8,8,10]\n",
    "})\n",
    "\n",
    "# Penerapan join dengan menggunakan set_index dan keyword how\n",
    "join_df = df1.set_index('key').join(df2.set_index('key'),how ='outer')\n",
    "print(join_df)"
   ]
  },
  {
   "source": [
    "# Pivot, Melt, Stack & Unstack"
   ],
   "cell_type": "markdown",
   "metadata": {}
  },
  {
   "cell_type": "code",
   "execution_count": null,
   "metadata": {},
   "outputs": [],
   "source": [
    "import pandas as pd\n",
    "# Dataframe\n",
    "\n",
    "data = pd.DataFrame({\n",
    "  'kelas': 6*['A'] + 6*['B'],\n",
    "  'murid': 2*['A1'] + 2*['A2'] + 2*['A3'] + 2*['B1'] + 2*['B2'] + 2*['B3'],\n",
    "  'pelajaran': 6*['math','english'],\n",
    "  'nilai': [90,60,70,85,50,60,100,40,95,80,60,45]\n",
    "},columns= ['kelas','murid','pelajaran','nilai'])\n",
    "\n",
    "# Unique value pada setiap kolom data\n",
    "for column in data.columns:\n",
    "    print('Unique value %s: %s' % (column, data[column].unique()))"
   ]
  },
  {
   "source": [
    "# Pivoting with single column measurement\n",
    "pivot1 = data.pivot(index='murid', columns='pelajaran', values='nilai')\n",
    "print('Pivoting with single column measurement:\\n', pivot1)\n",
    "\n",
    "# Pivoting with multiple column measurement\n",
    "pivot2 = data.pivot(index='murid', columns='pelajaran')\n",
    "print('Pivoting with multiple column measurement:\\n', pivot2)"
   ],
   "cell_type": "code",
   "metadata": {},
   "execution_count": null,
   "outputs": []
  },
  {
   "cell_type": "code",
   "execution_count": null,
   "metadata": {},
   "outputs": [],
   "source": [
    "# Creating pivot and assign pivot_tab dengan menggunakan keyword aggfunc='mean'\n",
    "\n",
    "pivot_tab_mean = data.pivot_table(index='kelas',columns='pelajaran', values='nilai', aggfunc='mean')\n",
    "print('Creating pivot table -- aggfunc mean:\\n', pivot_tab_mean)\n",
    "\n",
    "# Creating pivot and assign pivot_tab dengan menggunakan keyword aggfunc='median'\n",
    "pivot_tab_median = data.pivot_table(index='kelas', columns='pelajaran', values='nilai', aggfunc='median')\n",
    "print('Creating pivot table -- aggfunc median:\\n', pivot_tab_median)"
   ]
  },
  {
   "source": [
    "# MELT\n",
    "Teknik melt melalui pd.melt() digunakan untuk mengembalikan kondisi data yang sudah dilakukan pivot menjadi sebelum pivot."
   ],
   "cell_type": "markdown",
   "metadata": {}
  },
  {
   "source": [
    "import pandas as pd \n",
    "# Dataframe\n",
    "data = pd.DataFrame({\n",
    "  'kelas': 6*['A'] + 6*['B'],\n",
    "  'murid': 2*['A1'] + 2*['A2'] + 2*['A3'] + 2*['B1'] + 2*['B2'] + 2*['B3'],\n",
    "  'pelajaran': 6*['math','english'],\n",
    "  'nilai': [90,60,70,85,50,60,100,40,95,80,60,45]\n",
    "}, columns=['kelas','murid','pelajaran','nilai'])\n",
    "# Pivoting dataframe\n",
    "data_pivot = data.pivot_table(index='kelas', columns='pelajaran', values='nilai', aggfunc='mean').reset_index()\n",
    "print('Pivoting dataframe:\\n', data_pivot)\n",
    "# [1] Melting dataframe data_pivot\n",
    "data_melt_1 = pd.melt(data_pivot)\n",
    "print('Melting dataframe:\\n', data_melt_1)\n",
    "# [2] Melting dataframe data_pivot dengan id_vars\n",
    "data_melt_2 = pd.melt(data_pivot, id_vars='kelas')\n",
    "print('Melting dataframe dengan idvars:\\n', data_melt_2)"
   ],
   "cell_type": "code",
   "metadata": {},
   "execution_count": null,
   "outputs": []
  },
  {
   "cell_type": "code",
   "execution_count": null,
   "metadata": {},
   "outputs": [],
   "source": []
  }
 ],
 "metadata": {
  "kernelspec": {
   "name": "python390jvsc74a57bd0d0c403077b2524c67f7f8e11f307ce8f438e6a6fa2e4184536d9df58ffd5b860",
   "display_name": "Python 3.9.0 64-bit"
  },
  "language_info": {
   "codemirror_mode": {
    "name": "ipython",
    "version": 3
   },
   "file_extension": ".py",
   "mimetype": "text/x-python",
   "name": "python",
   "nbconvert_exporter": "python",
   "pygments_lexer": "ipython3",
   "version": "3.9.0"
  },
  "metadata": {
   "interpreter": {
    "hash": "d0c403077b2524c67f7f8e11f307ce8f438e6a6fa2e4184536d9df58ffd5b860"
   }
  }
 },
 "nbformat": 4,
 "nbformat_minor": 4
}
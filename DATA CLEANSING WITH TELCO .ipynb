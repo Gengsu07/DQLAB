{
 "metadata": {
  "language_info": {
   "codemirror_mode": {
    "name": "ipython",
    "version": 3
   },
   "file_extension": ".py",
   "mimetype": "text/x-python",
   "name": "python",
   "nbconvert_exporter": "python",
   "pygments_lexer": "ipython3",
   "version": "3.8.5"
  },
  "orig_nbformat": 2,
  "kernelspec": {
   "name": "python385jvsc74a57bd0b59dd43096e7071a7d7e15f794d5628462ba5c17fac5596e0a8dc0859ab5708e",
   "display_name": "Python 3.8.5 64-bit ('anaconda3': virtualenv)"
  }
 },
 "nbformat": 4,
 "nbformat_minor": 2,
 "cells": [
  {
   "source": [
    "# DATA CLEANSING WITH TELCO"
   ],
   "cell_type": "markdown",
   "metadata": {}
  },
  {
   "cell_type": "code",
   "execution_count": 80,
   "metadata": {
    "tags": []
   },
   "outputs": [
    {
     "output_type": "stream",
     "name": "stdout",
     "text": [
      "(7113, 22)\n   UpdatedAt   customerID  gender  SeniorCitizen Partner Dependents  tenure  \\\n0     202006  45759018157  Female              0     Yes         No     1.0   \n1     202006  45557574145    Male              0      No         No    34.0   \n2     202006  45366876421    Male              0      No         No     2.0   \n3     202006  45779536532    Male              0      No         No    45.0   \n4     202006  45923787906  Female              0      No         No     2.0   \n\n  PhoneService     MultipleLines InternetService  ... DeviceProtection  \\\n0           No  No phone service             DSL  ...               No   \n1          Yes                No             DSL  ...              Yes   \n2          Yes                No             DSL  ...               No   \n3           No  No phone service             DSL  ...              Yes   \n4          Yes                No     Fiber optic  ...               No   \n\n  TechSupport StreamingTV StreamingMovies        Contract PaperlessBilling  \\\n0          No          No              No  Month-to-month              Yes   \n1          No          No              No        One year               No   \n2          No          No              No  Month-to-month              Yes   \n3         Yes          No              No        One year               No   \n4          No          No              No  Month-to-month              Yes   \n\n               PaymentMethod MonthlyCharges TotalCharges  Churn  \n0           Electronic check          29.85        29.85     No  \n1               Mailed check          56.95      1889.50     No  \n2               Mailed check          53.85       108.15    Yes  \n3  Bank transfer (automatic)          42.30      1840.75     No  \n4           Electronic check          70.70       151.65    Yes  \n\n[5 rows x 22 columns]\n7017\n"
     ]
    }
   ],
   "source": [
    "#import library\n",
    "import pandas as pd \n",
    "\n",
    "#import dataset\n",
    "df_load = pd.read_csv('/Users/sugengw07/Documents/PYTHON/DQLAB/DATASET/dqlab_telco.csv')\n",
    "\n",
    "#Tampilkan jumlah baris dan kolom\n",
    "print(df_load.shape)\n",
    "\n",
    "#Tampilkan 5 data teratas\n",
    "print(df_load.head())\n",
    "\n",
    "#Jumlah ID yang unik\n",
    "print(df_load['customerID'].nunique())"
   ]
  },
  {
   "source": [
    "Memfilter ID Number Pelanggan Format Tertentu\n",
    "Mencari format ID Number (Phone Number) Pelanggan customerID yang benar, dengan kriteria:\n",
    "\n",
    "Panjang karakter adalah 11-12.\n",
    "Terdiri dari Angka Saja, tidak diperbolehkan ada karakter selain angka\n",
    "Diawali dengan angka 45 2 digit pertama.\n",
    " \n",
    "Gunakan fungsi count() untuk menghitung banyaknya rows Customer ID, anda juga bisa menggunakan str.match() & regex untuk mencocokan dengan kriteria diatas. Jangan lupa gunakan astype() untuk merubah tipe datanya yang semula numeric\n",
    "\n",
    "Notes : Buat kolom bantuan baru dengan nama `valid_id`\n",
    "\n",
    "Hasil yang diharapkan adalah sebagai berikut.\n",
    "\n",
    "Hasil jumlah ID Customer yang terfilter adalah 7006"
   ],
   "cell_type": "markdown",
   "metadata": {}
  },
  {
   "cell_type": "code",
   "execution_count": 81,
   "metadata": {},
   "outputs": [
    {
     "output_type": "stream",
     "name": "stdout",
     "text": [
      "Hasil jumlah ID Customer yang terfilter adalah 7006\n"
     ]
    }
   ],
   "source": [
    "df_load['valid_id'] = df_load['customerID'].astype(str).str.match(r'(45\\d{9,10})')\n",
    "df_load = (df_load[df_load['valid_id'] == True]).drop('valid_id', axis = 1)\n",
    "print('Hasil jumlah ID Customer yang terfilter adalah',df_load['customerID'].count())"
   ]
  },
  {
   "cell_type": "code",
   "execution_count": 82,
   "metadata": {},
   "outputs": [
    {
     "output_type": "stream",
     "name": "stdout",
     "text": [
      "Hasil jumlah ID Customer yang sudah dihilangkan duplikasinya (distinct) adalah 6999\n"
     ]
    }
   ],
   "source": [
    "df_load = df_load.drop_duplicates().sort_values(by='UpdatedAt')\n",
    "print('Hasil jumlah ID Customer yang sudah dihilangkan duplikasinya (distinct) adalah',df_load['customerID'].count())"
   ]
  },
  {
   "cell_type": "code",
   "execution_count": 83,
   "metadata": {},
   "outputs": [
    {
     "output_type": "execute_result",
     "data": {
      "text/plain": [
       "      UpdatedAt   customerID  gender  SeniorCitizen Partner Dependents  \\\n",
       "7048     202005  45877978431    Male              1      No         No   \n",
       "7044     202005  45819132957  Female              0      No         No   \n",
       "7045     202005  45995925610    Male              0      No        Yes   \n",
       "7046     202005  45419036262  Female              0     Yes        Yes   \n",
       "7047     202005  45418334682  Female              0      No         No   \n",
       "...         ...          ...     ...            ...     ...        ...   \n",
       "2359     202006  45261666061    Male              0     Yes         No   \n",
       "2358     202006  45697441629  Female              0     Yes         No   \n",
       "2357     202006  45925124954  Female              0     Yes         No   \n",
       "2368     202006  45665022680  Female              0     Yes         No   \n",
       "7112     202006  45427332508  Female              0      No        Yes   \n",
       "\n",
       "      tenure PhoneService     MultipleLines InternetService  ...  \\\n",
       "7048     1.0           No  No phone service             DSL  ...   \n",
       "7044    52.0          Yes                No              No  ...   \n",
       "7045    71.0          Yes               Yes     Fiber optic  ...   \n",
       "7046    10.0          Yes                No             DSL  ...   \n",
       "7047    21.0          Yes                No     Fiber optic  ...   \n",
       "...      ...          ...               ...             ...  ...   \n",
       "2359    33.0          Yes               Yes             DSL  ...   \n",
       "2358    55.0          Yes                No              No  ...   \n",
       "2357    67.0          Yes               Yes             DSL  ...   \n",
       "2368    72.0          Yes               Yes     Fiber optic  ...   \n",
       "7112     1.0          Yes                No     Fiber optic  ...   \n",
       "\n",
       "         DeviceProtection          TechSupport          StreamingTV  \\\n",
       "7048                  Yes                   No                   No   \n",
       "7044  No internet service  No internet service  No internet service   \n",
       "7045                  Yes                   No                  Yes   \n",
       "7046                  Yes                  Yes                   No   \n",
       "7047                  Yes                   No                   No   \n",
       "...                   ...                  ...                  ...   \n",
       "2359                  Yes                   No                  Yes   \n",
       "2358  No internet service  No internet service  No internet service   \n",
       "2357                  Yes                   No                   No   \n",
       "2368                  Yes                  Yes                  Yes   \n",
       "7112                   No                   No                  Yes   \n",
       "\n",
       "          StreamingMovies        Contract PaperlessBilling  \\\n",
       "7048                  Yes  Month-to-month              Yes   \n",
       "7044  No internet service        One year               No   \n",
       "7045                  Yes        Two year               No   \n",
       "7046                   No  Month-to-month               No   \n",
       "7047                  Yes  Month-to-month              Yes   \n",
       "...                   ...             ...              ...   \n",
       "2359                   No  Month-to-month              Yes   \n",
       "2358  No internet service        One year               No   \n",
       "2357                  Yes        One year               No   \n",
       "2368                  Yes        Two year              Yes   \n",
       "7112                  Yes  Month-to-month              Yes   \n",
       "\n",
       "                  PaymentMethod MonthlyCharges TotalCharges  Churn  \n",
       "7048           Electronic check          39.65        80.65     No  \n",
       "7044               Mailed check          20.65      1022.95    Yes  \n",
       "7045  Bank transfer (automatic)         106.70      7702.25     No  \n",
       "7046    Credit card (automatic)          60.20       528.35    Yes  \n",
       "7047           Electronic check         180.05      1862.90     No  \n",
       "...                         ...            ...          ...    ...  \n",
       "2359  Bank transfer (automatic)          72.75      2447.45     No  \n",
       "2358           Electronic check          19.70      1140.05     No  \n",
       "2357               Mailed check          75.10      5064.45     No  \n",
       "2368    Credit card (automatic)         117.15      8529.50     No  \n",
       "7112           Electronic check          89.35        89.35    NaN  \n",
       "\n",
       "[6999 rows x 22 columns]"
      ],
      "text/html": "<div>\n<style scoped>\n    .dataframe tbody tr th:only-of-type {\n        vertical-align: middle;\n    }\n\n    .dataframe tbody tr th {\n        vertical-align: top;\n    }\n\n    .dataframe thead th {\n        text-align: right;\n    }\n</style>\n<table border=\"1\" class=\"dataframe\">\n  <thead>\n    <tr style=\"text-align: right;\">\n      <th></th>\n      <th>UpdatedAt</th>\n      <th>customerID</th>\n      <th>gender</th>\n      <th>SeniorCitizen</th>\n      <th>Partner</th>\n      <th>Dependents</th>\n      <th>tenure</th>\n      <th>PhoneService</th>\n      <th>MultipleLines</th>\n      <th>InternetService</th>\n      <th>...</th>\n      <th>DeviceProtection</th>\n      <th>TechSupport</th>\n      <th>StreamingTV</th>\n      <th>StreamingMovies</th>\n      <th>Contract</th>\n      <th>PaperlessBilling</th>\n      <th>PaymentMethod</th>\n      <th>MonthlyCharges</th>\n      <th>TotalCharges</th>\n      <th>Churn</th>\n    </tr>\n  </thead>\n  <tbody>\n    <tr>\n      <th>7048</th>\n      <td>202005</td>\n      <td>45877978431</td>\n      <td>Male</td>\n      <td>1</td>\n      <td>No</td>\n      <td>No</td>\n      <td>1.0</td>\n      <td>No</td>\n      <td>No phone service</td>\n      <td>DSL</td>\n      <td>...</td>\n      <td>Yes</td>\n      <td>No</td>\n      <td>No</td>\n      <td>Yes</td>\n      <td>Month-to-month</td>\n      <td>Yes</td>\n      <td>Electronic check</td>\n      <td>39.65</td>\n      <td>80.65</td>\n      <td>No</td>\n    </tr>\n    <tr>\n      <th>7044</th>\n      <td>202005</td>\n      <td>45819132957</td>\n      <td>Female</td>\n      <td>0</td>\n      <td>No</td>\n      <td>No</td>\n      <td>52.0</td>\n      <td>Yes</td>\n      <td>No</td>\n      <td>No</td>\n      <td>...</td>\n      <td>No internet service</td>\n      <td>No internet service</td>\n      <td>No internet service</td>\n      <td>No internet service</td>\n      <td>One year</td>\n      <td>No</td>\n      <td>Mailed check</td>\n      <td>20.65</td>\n      <td>1022.95</td>\n      <td>Yes</td>\n    </tr>\n    <tr>\n      <th>7045</th>\n      <td>202005</td>\n      <td>45995925610</td>\n      <td>Male</td>\n      <td>0</td>\n      <td>No</td>\n      <td>Yes</td>\n      <td>71.0</td>\n      <td>Yes</td>\n      <td>Yes</td>\n      <td>Fiber optic</td>\n      <td>...</td>\n      <td>Yes</td>\n      <td>No</td>\n      <td>Yes</td>\n      <td>Yes</td>\n      <td>Two year</td>\n      <td>No</td>\n      <td>Bank transfer (automatic)</td>\n      <td>106.70</td>\n      <td>7702.25</td>\n      <td>No</td>\n    </tr>\n    <tr>\n      <th>7046</th>\n      <td>202005</td>\n      <td>45419036262</td>\n      <td>Female</td>\n      <td>0</td>\n      <td>Yes</td>\n      <td>Yes</td>\n      <td>10.0</td>\n      <td>Yes</td>\n      <td>No</td>\n      <td>DSL</td>\n      <td>...</td>\n      <td>Yes</td>\n      <td>Yes</td>\n      <td>No</td>\n      <td>No</td>\n      <td>Month-to-month</td>\n      <td>No</td>\n      <td>Credit card (automatic)</td>\n      <td>60.20</td>\n      <td>528.35</td>\n      <td>Yes</td>\n    </tr>\n    <tr>\n      <th>7047</th>\n      <td>202005</td>\n      <td>45418334682</td>\n      <td>Female</td>\n      <td>0</td>\n      <td>No</td>\n      <td>No</td>\n      <td>21.0</td>\n      <td>Yes</td>\n      <td>No</td>\n      <td>Fiber optic</td>\n      <td>...</td>\n      <td>Yes</td>\n      <td>No</td>\n      <td>No</td>\n      <td>Yes</td>\n      <td>Month-to-month</td>\n      <td>Yes</td>\n      <td>Electronic check</td>\n      <td>180.05</td>\n      <td>1862.90</td>\n      <td>No</td>\n    </tr>\n    <tr>\n      <th>...</th>\n      <td>...</td>\n      <td>...</td>\n      <td>...</td>\n      <td>...</td>\n      <td>...</td>\n      <td>...</td>\n      <td>...</td>\n      <td>...</td>\n      <td>...</td>\n      <td>...</td>\n      <td>...</td>\n      <td>...</td>\n      <td>...</td>\n      <td>...</td>\n      <td>...</td>\n      <td>...</td>\n      <td>...</td>\n      <td>...</td>\n      <td>...</td>\n      <td>...</td>\n      <td>...</td>\n    </tr>\n    <tr>\n      <th>2359</th>\n      <td>202006</td>\n      <td>45261666061</td>\n      <td>Male</td>\n      <td>0</td>\n      <td>Yes</td>\n      <td>No</td>\n      <td>33.0</td>\n      <td>Yes</td>\n      <td>Yes</td>\n      <td>DSL</td>\n      <td>...</td>\n      <td>Yes</td>\n      <td>No</td>\n      <td>Yes</td>\n      <td>No</td>\n      <td>Month-to-month</td>\n      <td>Yes</td>\n      <td>Bank transfer (automatic)</td>\n      <td>72.75</td>\n      <td>2447.45</td>\n      <td>No</td>\n    </tr>\n    <tr>\n      <th>2358</th>\n      <td>202006</td>\n      <td>45697441629</td>\n      <td>Female</td>\n      <td>0</td>\n      <td>Yes</td>\n      <td>No</td>\n      <td>55.0</td>\n      <td>Yes</td>\n      <td>No</td>\n      <td>No</td>\n      <td>...</td>\n      <td>No internet service</td>\n      <td>No internet service</td>\n      <td>No internet service</td>\n      <td>No internet service</td>\n      <td>One year</td>\n      <td>No</td>\n      <td>Electronic check</td>\n      <td>19.70</td>\n      <td>1140.05</td>\n      <td>No</td>\n    </tr>\n    <tr>\n      <th>2357</th>\n      <td>202006</td>\n      <td>45925124954</td>\n      <td>Female</td>\n      <td>0</td>\n      <td>Yes</td>\n      <td>No</td>\n      <td>67.0</td>\n      <td>Yes</td>\n      <td>Yes</td>\n      <td>DSL</td>\n      <td>...</td>\n      <td>Yes</td>\n      <td>No</td>\n      <td>No</td>\n      <td>Yes</td>\n      <td>One year</td>\n      <td>No</td>\n      <td>Mailed check</td>\n      <td>75.10</td>\n      <td>5064.45</td>\n      <td>No</td>\n    </tr>\n    <tr>\n      <th>2368</th>\n      <td>202006</td>\n      <td>45665022680</td>\n      <td>Female</td>\n      <td>0</td>\n      <td>Yes</td>\n      <td>No</td>\n      <td>72.0</td>\n      <td>Yes</td>\n      <td>Yes</td>\n      <td>Fiber optic</td>\n      <td>...</td>\n      <td>Yes</td>\n      <td>Yes</td>\n      <td>Yes</td>\n      <td>Yes</td>\n      <td>Two year</td>\n      <td>Yes</td>\n      <td>Credit card (automatic)</td>\n      <td>117.15</td>\n      <td>8529.50</td>\n      <td>No</td>\n    </tr>\n    <tr>\n      <th>7112</th>\n      <td>202006</td>\n      <td>45427332508</td>\n      <td>Female</td>\n      <td>0</td>\n      <td>No</td>\n      <td>Yes</td>\n      <td>1.0</td>\n      <td>Yes</td>\n      <td>No</td>\n      <td>Fiber optic</td>\n      <td>...</td>\n      <td>No</td>\n      <td>No</td>\n      <td>Yes</td>\n      <td>Yes</td>\n      <td>Month-to-month</td>\n      <td>Yes</td>\n      <td>Electronic check</td>\n      <td>89.35</td>\n      <td>89.35</td>\n      <td>NaN</td>\n    </tr>\n  </tbody>\n</table>\n<p>6999 rows × 22 columns</p>\n</div>"
     },
     "metadata": {},
     "execution_count": 83
    }
   ],
   "source": [
    "df_load"
   ]
  },
  {
   "cell_type": "code",
   "execution_count": 84,
   "metadata": {},
   "outputs": [
    {
     "output_type": "stream",
     "name": "stdout",
     "text": [
      "Hasil jumlah ID Customer yang sudah dihilangkan duplikasinya (distinct) adalah 6993\n"
     ]
    }
   ],
   "source": [
    "df_load = df_load.drop_duplicates()\n",
    "df_load = df_load.sort_values('UpdatedAt', ascending=False).drop_duplicates(subset='customerID')\n",
    "print('Hasil jumlah ID Customer yang sudah dihilangkan duplikasinya (distinct) adalah',df_load['customerID'].count())"
   ]
  },
  {
   "cell_type": "code",
   "execution_count": 85,
   "metadata": {},
   "outputs": [
    {
     "output_type": "stream",
     "name": "stdout",
     "text": [
      "Total missing values data dari kolom Churn 43\nTotal Rows dan kolom Data setelah dihapus data Missing Values adalah (6950, 22)\n"
     ]
    }
   ],
   "source": [
    "print('Total missing values data dari kolom Churn',df_load['Churn'].isnull().sum())\n",
    "# Dropping all Rows with spesific column\n",
    "df_load.dropna(subset=(['Churn']),inplace=True)\n",
    "print('Total Rows dan kolom Data setelah dihapus data Missing Values adalah',(df_load).shape)"
   ]
  },
  {
   "cell_type": "code",
   "execution_count": null,
   "metadata": {},
   "outputs": [],
   "source": []
  }
 ]
}
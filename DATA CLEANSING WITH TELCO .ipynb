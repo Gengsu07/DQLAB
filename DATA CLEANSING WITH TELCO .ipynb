{
 "metadata": {
  "language_info": {
   "codemirror_mode": {
    "name": "ipython",
    "version": 3
   },
   "file_extension": ".py",
   "mimetype": "text/x-python",
   "name": "python",
   "nbconvert_exporter": "python",
   "pygments_lexer": "ipython3",
   "version": "3.8.5"
  },
  "orig_nbformat": 2,
  "kernelspec": {
   "name": "python385jvsc74a57bd0b59dd43096e7071a7d7e15f794d5628462ba5c17fac5596e0a8dc0859ab5708e",
   "display_name": "Python 3.8.5 64-bit ('anaconda3': virtualenv)"
  }
 },
 "nbformat": 4,
 "nbformat_minor": 2,
 "cells": [
  {
   "source": [
    "# DATA CLEANSING WITH TELCO"
   ],
   "cell_type": "markdown",
   "metadata": {}
  },
  {
   "cell_type": "code",
   "execution_count": 10,
   "metadata": {
    "tags": []
   },
   "outputs": [
    {
     "output_type": "stream",
     "name": "stdout",
     "text": [
      "(7113, 22)\n   UpdatedAt   customerID  gender  SeniorCitizen Partner Dependents  tenure  \\\n0     202006  45759018157  Female              0     Yes         No     1.0   \n1     202006  45557574145    Male              0      No         No    34.0   \n2     202006  45366876421    Male              0      No         No     2.0   \n3     202006  45779536532    Male              0      No         No    45.0   \n4     202006  45923787906  Female              0      No         No     2.0   \n\n  PhoneService     MultipleLines InternetService OnlineSecurity OnlineBackup  \\\n0           No  No phone service             DSL             No          Yes   \n1          Yes                No             DSL            Yes           No   \n2          Yes                No             DSL            Yes          Yes   \n3           No  No phone service             DSL            Yes           No   \n4          Yes                No     Fiber optic             No           No   \n\n  DeviceProtection TechSupport StreamingTV StreamingMovies        Contract  \\\n0               No          No          No              No  Month-to-month   \n1              Yes          No          No              No        One year   \n2               No          No          No              No  Month-to-month   \n3              Yes         Yes          No              No        One year   \n4               No          No          No              No  Month-to-month   \n\n  PaperlessBilling              PaymentMethod  MonthlyCharges  TotalCharges  \\\n0              Yes           Electronic check           29.85         29.85   \n1               No               Mailed check           56.95       1889.50   \n2              Yes               Mailed check           53.85        108.15   \n3               No  Bank transfer (automatic)           42.30       1840.75   \n4              Yes           Electronic check           70.70        151.65   \n\n  Churn  \n0    No  \n1    No  \n2   Yes  \n3    No  \n4   Yes  \n7017\n"
     ]
    }
   ],
   "source": [
    "#import library\n",
    "import pandas as pd \n",
    "\n",
    "#import dataset\n",
    "df_load = pd.read_csv('/Users/sugengw07/Documents/PYTHON/DQLAB/DATASET/dqlab_telco.csv')\n",
    "\n",
    "#Tampilkan jumlah baris dan kolom\n",
    "print(df_load.shape)\n",
    "\n",
    "#Tampilkan 5 data teratas\n",
    "print(df_load.head())\n",
    "\n",
    "#Jumlah ID yang unik\n",
    "print(df_load['customerID'].nunique())"
   ]
  },
  {
   "source": [
    "Memfilter ID Number Pelanggan Format Tertentu\n",
    "Mencari format ID Number (Phone Number) Pelanggan customerID yang benar, dengan kriteria:\n",
    "\n",
    "Panjang karakter adalah 11-12.\n",
    "Terdiri dari Angka Saja, tidak diperbolehkan ada karakter selain angka\n",
    "Diawali dengan angka 45 2 digit pertama.\n",
    " \n",
    "Gunakan fungsi count() untuk menghitung banyaknya rows Customer ID, anda juga bisa menggunakan str.match() & regex untuk mencocokan dengan kriteria diatas. Jangan lupa gunakan astype() untuk merubah tipe datanya yang semula numeric\n",
    "\n",
    "Notes : Buat kolom bantuan baru dengan nama `valid_id`\n",
    "\n",
    "Hasil yang diharapkan adalah sebagai berikut.\n",
    "\n",
    "Hasil jumlah ID Customer yang terfilter adalah 7006"
   ],
   "cell_type": "markdown",
   "metadata": {}
  },
  {
   "cell_type": "code",
   "execution_count": 12,
   "metadata": {},
   "outputs": [],
   "source": [
    "df_load.customerID.astype(str)\n",
    "valid_id = "
   ]
  },
  {
   "cell_type": "code",
   "execution_count": null,
   "metadata": {},
   "outputs": [],
   "source": []
  }
 ]
}